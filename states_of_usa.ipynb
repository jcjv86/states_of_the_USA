{
 "cells": [
  {
   "cell_type": "code",
   "execution_count": null,
   "id": "899b943b-f978-42cf-ac0e-cdb453a0990f",
   "metadata": {},
   "outputs": [],
   "source": [
    "import random\n",
    "states = [\"Alabama\", \"Alaska\", \"Arizona\", \"Arkansas\", \"California\", \"Colorado\", \"Connecticut\", \"Delaware\", \"Florida\", \"Georgia\", \"Hawaii\", \"Idaho\", \"Illinois\", \"Indiana\", \"Iowa\", \"Kansas\", \"Kentucky\", \"Louisiana\", \"Maine\", \"Maryland\", \"Massachusetts\", \"Michigan\", \"Minnesota\", \"Mississippi\", \"Missouri\", \"Montana\", \"Nebraska\", \"Nevada\", \"New Hampshire\", \"New Jersey\", \"New Mexico\", \"New York\", \"North Carolina\", \"North Dakota\", \"Ohio\", \"Oklahoma\", \"Oregon\", \"Pennsylvania\", \"Rhode Island\", \"South Carolina\", \"South Dakota\", \"Tennessee\", \"Texas\", \"Utah\", \"Vermont\", \"Virginia\", \"Washington\", \"West Virginia\", \"Wisconsin\", \"Wyoming\"]\n",
    "\n",
    "aciertos = []\n",
    "\n",
    "print(\"Bienvenido a este juego\\n\\nNombra los estados de EEUU\\n\\nEscribe 'check' para ver los aciertos.\\n\\nEscribe 'pista' para ver la inicial de un\\nestado que falte por nombrar.\\n\\nEscribe 'ayuda' si eres débil.\\n\\n\")\n",
    "while len(states) != 0:\n",
    "    x = input(\"Nombre del estado?\\n\")\n",
    "    x = x.title()\n",
    "    if x in states:\n",
    "        states.remove(x)\n",
    "        aciertos.append(x)\n",
    "        aciertos.sort()\n",
    "        print(f\"Quedan {len(states)} Estados!\\n\")\n",
    "    elif x == \"Check\":\n",
    "        print(aciertos)\n",
    "    elif x == \"Pista\":\n",
    "        try:\n",
    "            print(f\"Queda al menos un estado que empieza por {states[random.randint(0, len(states))][0]}\")\n",
    "        except:\n",
    "            continue\n",
    "    elif x == \"Trampa\":\n",
    "        try:\n",
    "            print(random.choice(states))\n",
    "        except:\n",
    "            continue\n",
    "    elif x == \"Nopuedor\":\n",
    "        print(states)\n",
    "    elif x == \"Ayuda\":\n",
    "        print(\"Escribe 'Trampa' para ver el nombre completo de un estado que queda\\nEscribe 'Nopuedor' para ver la lista completa de estados que faltan\")\n",
    "    elif x == \"Salir\":\n",
    "        quit()\n",
    "    else:\n",
    "        input(\"Inténtalo de nuevo!\\nPULSA ENTER\")\n",
    "    continue\n",
    "print(\"Felicidades! Has ganado!'\")\n"
   ]
  },
  {
   "cell_type": "code",
   "execution_count": null,
   "id": "7c857492-8f29-4c33-8850-8be567baaed4",
   "metadata": {},
   "outputs": [],
   "source": []
  }
 ],
 "metadata": {
  "kernelspec": {
   "display_name": "Python 3 (ipykernel)",
   "language": "python",
   "name": "python3"
  },
  "language_info": {
   "codemirror_mode": {
    "name": "ipython",
    "version": 3
   },
   "file_extension": ".py",
   "mimetype": "text/x-python",
   "name": "python",
   "nbconvert_exporter": "python",
   "pygments_lexer": "ipython3",
   "version": "3.9.13"
  }
 },
 "nbformat": 4,
 "nbformat_minor": 5
}
