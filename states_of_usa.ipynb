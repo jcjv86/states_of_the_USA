{
 "cells": [
  {
   "cell_type": "code",
   "execution_count": null,
   "id": "899b943b-f978-42cf-ac0e-cdb453a0990f",
   "metadata": {},
   "outputs": [],
   "source": [
    "import random\n",
    "states = [\"Alabama\", \"Alaska\", \"Arizona\", \"Arkansas\", \"California\", \"Colorado\", \"Connecticut\", \"Delaware\", \"Florida\", \"Georgia\", \"Hawaii\", \n",
    "\"Idaho\", \"Illinois\", \"Indiana\", \"Iowa\", \"Kansas\", \"Kentucky\", \"Louisiana\", \"Maine\", \"Maryland\", \"Massachusetts\", \"Michigan\", \"Minnesota\", \n",
    "\"Mississippi\", \"Missouri\", \"Montana\", \"Nebraska\", \"Nevada\", \"New Hampshire\", \"New Jersey\", \"New Mexico\", \"New York\", \"North Carolina\", \"North Dakota\", \n",
    "\"Ohio\", \"Oklahoma\", \"Oregon\", \"Pennsylvania\", \"Rhode Island\", \"South Carolina\", \"South Dakota\", \"Tennessee\", \"Texas\", \"Utah\", \"Vermont\", \"Virginia\", \n",
    "\"Washington\", \"West Virginia\", \"Wisconsin\", \"Wyoming\"]\n",
    "\n",
    "guesses = []\n",
    "\n",
    "print(\"Welcome to this game!\",\"\\n\\nName all states in USA\\n\\n\", \"Write 'check' to see your guesses.\\n\\n\",\n",
    "    \"Write 'hint' to see the first letter of a remaining state.\", \"\\n\\nWrite help if you are weak.\\n\\n\")\n",
    "while len(states) != 0:\n",
    "    x = input(\"State name?\\n\")\n",
    "    x = x.title()\n",
    "    if x in states:\n",
    "        states.remove(x)\n",
    "        guesses.append(x)\n",
    "        guesses.sort()\n",
    "        print(f\"{len(states)} States remaining!\\n\")\n",
    "    elif x == \"Check\":\n",
    "        print(guesses)\n",
    "    elif x == \"Hint\":\n",
    "        try:\n",
    "            print(f\"There's at least one state remaining starting with... {states[random.randint(0, len(states))][0]}!\")\n",
    "        except:\n",
    "            continue\n",
    "    elif x == \"Cheat\":\n",
    "        try:\n",
    "            print(random.choice(states))\n",
    "        except:\n",
    "            continue\n",
    "    elif x == \"Surrender\":\n",
    "        print(states)\n",
    "    elif x == \"Help\":\n",
    "        print(\"Write 'cheat' to display a remaining state full name\\nWrite 'surrender' to see the full list of remaining states\")\n",
    "    elif x == \"Quit\":\n",
    "        quit()\n",
    "    else:\n",
    "        input(\"Try again!\\nHIT ENTER\")\n",
    "    continue\n",
    "print(\"Congrats! You won!'\")\n"
   ]
  },
  {
   "cell_type": "code",
   "execution_count": null,
   "id": "7c857492-8f29-4c33-8850-8be567baaed4",
   "metadata": {},
   "outputs": [],
   "source": []
  }
 ],
 "metadata": {
  "kernelspec": {
   "display_name": "Python 3 (ipykernel)",
   "language": "python",
   "name": "python3"
  },
  "language_info": {
   "codemirror_mode": {
    "name": "ipython",
    "version": 3
   },
   "file_extension": ".py",
   "mimetype": "text/x-python",
   "name": "python",
   "nbconvert_exporter": "python",
   "pygments_lexer": "ipython3",
   "version": "3.9.13"
  }
 },
 "nbformat": 4,
 "nbformat_minor": 5
}
